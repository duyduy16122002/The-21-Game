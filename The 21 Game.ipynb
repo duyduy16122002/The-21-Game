{
 "cells": [
  {
   "cell_type": "code",
   "execution_count": 8,
   "id": "9e3ea150",
   "metadata": {},
   "outputs": [
    {
     "name": "stdout",
     "output_type": "stream",
     "text": [
      "Nhập 1, 2 hoặc 3: 3\n",
      "Human + 3, Number = 3\n",
      "Bot + 3,Number = 6\n",
      "Nhập 1, 2 hoặc 3: 2\n",
      "Human + 2, Number = 8\n",
      "Bot + 3,Number = 11\n",
      "Nhập 1, 2 hoặc 3: 1\n",
      "Human + 1, Number = 12\n",
      "Bot + 1,Number = 13\n",
      "Nhập 1, 2 hoặc 3: 2\n",
      "Human + 2, Number = 15\n",
      "Bot + 3,Number = 18\n",
      "Nhập 1, 2 hoặc 3: 3\n",
      "Human + 3, Number = 21\n",
      "Human lose\n"
     ]
    }
   ],
   "source": [
    "from random import*\n",
    "first = randint(0,1)\n",
    "human = bot = number = 0\n",
    "while True:\n",
    "    if first == 0:\n",
    "        a = int(input(\"Nhập 1, 2 hoặc 3: \"))\n",
    "        number += a\n",
    "        print(f'Human + {a}, Number = {number}')\n",
    "        if number >= 21:\n",
    "            print('Human lose')\n",
    "            break;\n",
    "        b = randint(1,3)\n",
    "        number+=b\n",
    "        print(f'Bot + {b},Number = {number}')\n",
    "        if number >= 21:\n",
    "            print('Bot lose')\n",
    "            break;\n",
    "    elif first == 1:\n",
    "        b = randint(1,3)\n",
    "        number+=b\n",
    "        print(f'Bot + {b},Number = {number}')\n",
    "        if number >= 21:\n",
    "            print('Bot lose')\n",
    "            break;\n",
    "        a = int(input(\"Nhập 1, 2 hoặc 3: \"))\n",
    "        number += a\n",
    "        print(f'Human + {a}, Number = {number}')\n",
    "        if number >= 21:\n",
    "            print('Human lose')\n",
    "            break;\n",
    "    "
   ]
  },
  {
   "cell_type": "code",
   "execution_count": null,
   "id": "c121b5e5",
   "metadata": {},
   "outputs": [],
   "source": []
  }
 ],
 "metadata": {
  "kernelspec": {
   "display_name": "Python 3 (ipykernel)",
   "language": "python",
   "name": "python3"
  },
  "language_info": {
   "codemirror_mode": {
    "name": "ipython",
    "version": 3
   },
   "file_extension": ".py",
   "mimetype": "text/x-python",
   "name": "python",
   "nbconvert_exporter": "python",
   "pygments_lexer": "ipython3",
   "version": "3.9.12"
  }
 },
 "nbformat": 4,
 "nbformat_minor": 5
}
